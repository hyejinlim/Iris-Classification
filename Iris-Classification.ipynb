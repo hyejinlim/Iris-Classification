{
 "cells": [
  {
   "cell_type": "markdown",
   "metadata": {},
   "source": [
    "### Iris-Classification\n",
    "- Pipeline\n",
    "- MinMaxScaler\n",
    "- LogisticRegression\n",
    "- RandomSearch\n",
    "- K-fold"
   ]
  },
  {
   "cell_type": "code",
   "execution_count": 1,
   "metadata": {},
   "outputs": [
    {
     "name": "stdout",
     "output_type": "stream",
     "text": [
      "Accuracy :  0.9333333333333333\n",
      "F1-score :  0.9393939393939394\n"
     ]
    }
   ],
   "source": [
    "import numpy as np\n",
    "from sklearn.datasets import load_iris\n",
    "from sklearn.model_selection import train_test_split\n",
    "from sklearn.metrics import accuracy_score\n",
    "from sklearn.preprocessing import MinMaxScaler\n",
    "from sklearn.pipeline import Pipeline\n",
    "from sklearn.linear_model import LogisticRegression\n",
    "from sklearn.model_selection import RandomizedSearchCV\n",
    "from sklearn.metrics import accuracy_score, f1_score\n",
    "import warnings\n",
    "warnings.filterwarnings(action='ignore')\n",
    "\n",
    "# Iris dataset 불러오기\n",
    "X, y = load_iris(return_X_y=True)\n",
    "\n",
    "# train, test 8:2 split\n",
    "X_train, X_test, y_train, y_test = train_test_split(X, y, test_size=0.2)\n",
    "\n",
    "# pipeline 정의\n",
    "pipeline = Pipeline([\n",
    "    ('minmaxscaler', MinMaxScaler()),\n",
    "    ('logisticregression', LogisticRegression())\n",
    "])\n",
    "\n",
    "clf = pipeline\n",
    "\n",
    "# clf.get_params().keys(): 모델 파라미터 확인\n",
    "# search할 파라미터 및 값 정의\n",
    "param_dist = {\n",
    "    'logisticregression__C': np.logspace(-4, 4, 4),\n",
    "    'logisticregression__solver': [\"newton-cg\", \"lbfgs\", \"liblinear\", \"sag\", \"saga\"]\n",
    "}\n",
    "\n",
    "search = RandomizedSearchCV(clf, param_dist, cv = 5)\n",
    "search.fit(X_train, y_train)\n",
    "\n",
    "# random search를 통해 얻은 베스트 파라미터 pipeline\n",
    "clf = search.best_estimator_\n",
    "clf.fit(X_train, y_train)\n",
    "\n",
    "y_pred = clf.predict(X_test)\n",
    "\n",
    "acc = accuracy_score(y_test, y_pred)\n",
    "f1 = f1_score(y_test, y_pred, average=None).mean()\n",
    "\n",
    "print(\"Accuracy : \", acc)\n",
    "print(\"F1-score : \", f1)"
   ]
  }
 ],
 "metadata": {
  "kernelspec": {
   "display_name": "Python 3",
   "language": "python",
   "name": "python3"
  },
  "language_info": {
   "codemirror_mode": {
    "name": "ipython",
    "version": 3
   },
   "file_extension": ".py",
   "mimetype": "text/x-python",
   "name": "python",
   "nbconvert_exporter": "python",
   "pygments_lexer": "ipython3",
   "version": "3.7.6"
  }
 },
 "nbformat": 4,
 "nbformat_minor": 4
}
